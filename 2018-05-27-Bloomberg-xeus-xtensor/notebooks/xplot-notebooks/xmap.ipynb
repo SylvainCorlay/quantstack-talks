{
 "cells": [
  {
   "cell_type": "code",
   "execution_count": 1,
   "metadata": {},
   "outputs": [],
   "source": [
    "#include \"xplot/xfigure.hpp\"\n",
    "#include \"xplot/xmarks.hpp\"\n",
    "#include \"xplot/xaxes.hpp\""
   ]
  },
  {
   "cell_type": "markdown",
   "metadata": {},
   "source": [
    "## Basic Map ##"
   ]
  },
  {
   "cell_type": "code",
   "execution_count": 2,
   "metadata": {},
   "outputs": [],
   "source": [
    "xpl::mercator sc_geo;"
   ]
  },
  {
   "cell_type": "code",
   "execution_count": 3,
   "metadata": {},
   "outputs": [],
   "source": [
    "xpl::map map(sc_geo);"
   ]
  },
  {
   "cell_type": "code",
   "execution_count": 4,
   "metadata": {},
   "outputs": [
    {
     "data": {
      "application/vnd.jupyter.widget-view+json": {
       "model_id": "6edc24a34be04dc89712136ae71c1ad5",
       "version_major": 2,
       "version_minor": 0
      },
      "text/plain": [
       "A Jupyter widget"
      ]
     },
     "metadata": {},
     "output_type": "display_data"
    }
   ],
   "source": [
    "xpl::figure fig1;\n",
    "fig1.add_mark(map);\n",
    "fig1.title = \"Basic Map Example\";\n",
    "fig1.display()"
   ]
  },
  {
   "cell_type": "markdown",
   "metadata": {
    "collapsed": true
   },
   "source": [
    "## Advanced Map and Projection ##"
   ]
  },
  {
   "cell_type": "code",
   "execution_count": 5,
   "metadata": {},
   "outputs": [],
   "source": [
    "auto sc_geo_a = xpl::orthographic_generator()\n",
    "               .scale_factor(375)\n",
    "               .center(std::vector<double>{0, 25})\n",
    "               .rotate(std::vector<double>{-50, 0})\n",
    "               .finalize();"
   ]
  },
  {
   "cell_type": "code",
   "execution_count": 6,
   "metadata": {},
   "outputs": [],
   "source": [
    "std::string colors = R\"(\n",
    "{\n",
    "    \"682\": \"Green\",\n",
    "    \"356\": \"Red\",\n",
    "    \"643\": \"#0000ff\",\n",
    "    \"default_color\": \"DarkOrange\"\n",
    "}\n",
    ")\";"
   ]
  },
  {
   "cell_type": "code",
   "execution_count": 7,
   "metadata": {},
   "outputs": [],
   "source": [
    "auto map_a = xpl::map_generator(sc_geo_a)\n",
    "            .colors(::xeus::xjson::parse(colors))\n",
    "            .finalize();"
   ]
  },
  {
   "cell_type": "code",
   "execution_count": 8,
   "metadata": {},
   "outputs": [
    {
     "data": {
      "application/vnd.jupyter.widget-view+json": {
       "model_id": "22798069aa9e4c03a72aaa4dee000d93",
       "version_major": 2,
       "version_minor": 0
      },
      "text/plain": [
       "A Jupyter widget"
      ]
     },
     "metadata": {},
     "output_type": "display_data"
    }
   ],
   "source": [
    "xpl::figure fig2;\n",
    "fig2.add_mark(map_a);\n",
    "fig2.title = \"Advanced Map Example\";\n",
    "fig2.display()"
   ]
  },
  {
   "cell_type": "code",
   "execution_count": 9,
   "metadata": {},
   "outputs": [],
   "source": [
    "sc_geo_a.scale_factor = 350;"
   ]
  },
  {
   "cell_type": "markdown",
   "metadata": {},
   "source": [
    "## Choropleth ##"
   ]
  },
  {
   "cell_type": "code",
   "execution_count": 10,
   "metadata": {},
   "outputs": [],
   "source": [
    "xpl::mercator sc_geo_c;\n",
    "xpl::color_scale sc_c1;\n",
    "sc_c1.scheme = \"YlOrRd\";"
   ]
  },
  {
   "cell_type": "code",
   "execution_count": 13,
   "metadata": {},
   "outputs": [],
   "source": [
    "std::string color_c = R\"(\n",
    "{\n",
    "    \"643\": \"105.\", \n",
    "      \"4\":  \"21.\",\n",
    "    \"398\":  \"23.\",\n",
    "    \"156\":  \"42.\",\n",
    "    \"124\":  \"78.\", \n",
    "     \"76\":  \"98.\"\n",
    "}\n",
    ")\";\n",
    "\n",
    "std::string colors_c = R\"(\n",
    "{\n",
    "    \"default_color\": \"Grey\"\n",
    "}\n",
    ")\";"
   ]
  },
  {
   "cell_type": "code",
   "execution_count": 14,
   "metadata": {},
   "outputs": [],
   "source": [
    "auto map_c = xpl::map_generator(sc_geo_c, sc_c1)\n",
    "            .color(::xeus::xjson::parse(color_c))\n",
    "            .colors(::xeus::xjson::parse(colors_c))\n",
    "            .finalize();"
   ]
  },
  {
   "cell_type": "code",
   "execution_count": 15,
   "metadata": {},
   "outputs": [
    {
     "data": {
      "application/vnd.jupyter.widget-view+json": {
       "model_id": "80b92b2c071a44978ae919779b1d48f1",
       "version_major": 2,
       "version_minor": 0
      },
      "text/plain": [
       "A Jupyter widget"
      ]
     },
     "metadata": {},
     "output_type": "display_data"
    }
   ],
   "source": [
    "xpl::figure fig3;\n",
    "fig3.add_mark(map_c);\n",
    "fig3.title = \"Choropleth Example\";\n",
    "fig3.display()"
   ]
  },
  {
   "cell_type": "markdown",
   "metadata": {},
   "source": [
    "## USA State Map ##"
   ]
  },
  {
   "cell_type": "code",
   "execution_count": 16,
   "metadata": {},
   "outputs": [],
   "source": [
    "xpl::albers_usa sc_geo_usa;\n",
    "xpl::map map_usa(xpl::topo_load(\"USStatesMap.json\"), sc_geo_usa);"
   ]
  },
  {
   "cell_type": "code",
   "execution_count": 17,
   "metadata": {},
   "outputs": [
    {
     "data": {
      "application/vnd.jupyter.widget-view+json": {
       "model_id": "6126af8a7c3741d7a45ff6d256564fc9",
       "version_major": 2,
       "version_minor": 0
      },
      "text/plain": [
       "A Jupyter widget"
      ]
     },
     "metadata": {},
     "output_type": "display_data"
    }
   ],
   "source": [
    "xpl::figure fig4;\n",
    "fig4.add_mark(map_usa);\n",
    "fig4.title = \"US States Map Example\";\n",
    "fig4.display()"
   ]
  },
  {
   "cell_type": "markdown",
   "metadata": {},
   "source": [
    "## Europe Country Map"
   ]
  },
  {
   "cell_type": "code",
   "execution_count": 18,
   "metadata": {},
   "outputs": [],
   "source": [
    "xpl::mercator sc_geo_euro;\n",
    "sc_geo_euro.scale_factor = 450;\n",
    "xpl::map map_euro(xpl::topo_load(\"EuropeMap.json\"), sc_geo_euro);"
   ]
  },
  {
   "cell_type": "code",
   "execution_count": 19,
   "metadata": {},
   "outputs": [
    {
     "data": {
      "application/vnd.jupyter.widget-view+json": {
       "model_id": "a550f3f5bae844849e6ff2cc9bea746a",
       "version_major": 2,
       "version_minor": 0
      },
      "text/plain": [
       "A Jupyter widget"
      ]
     },
     "metadata": {},
     "output_type": "display_data"
    }
   ],
   "source": [
    "xpl::figure fig5;\n",
    "fig5.add_mark(map_euro);\n",
    "fig5.title = \"Europe States Map Example\";\n",
    "fig5.display()"
   ]
  },
  {
   "cell_type": "markdown",
   "metadata": {},
   "source": [
    "## Interactions ##"
   ]
  },
  {
   "cell_type": "code",
   "execution_count": null,
   "metadata": {
    "collapsed": true
   },
   "outputs": [],
   "source": [
    "// TODO"
   ]
  },
  {
   "cell_type": "code",
   "execution_count": null,
   "metadata": {
    "collapsed": true
   },
   "outputs": [],
   "source": []
  }
 ],
 "metadata": {
  "kernelspec": {
   "display_name": "xeus C++14",
   "language": "",
   "name": "xeus-cling-cpp14"
  },
  "language_info": {
   "codemirror_mode": "text/x-c++src",
   "file_extension": ".cpp",
   "mimetype": "text/x-c++src",
   "name": "c++",
   "version": ""
  }
 },
 "nbformat": 4,
 "nbformat_minor": 1
}
