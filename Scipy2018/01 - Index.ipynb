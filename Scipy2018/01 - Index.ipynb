{
 "cells": [
  {
   "cell_type": "markdown",
   "metadata": {},
   "source": [
    "![Scipy banner](scipy-banner.png)\n",
    "\n",
    "# Interactive Data Exploration with bqplot and interactive widgets"
   ]
  },
  {
   "cell_type": "markdown",
   "metadata": {},
   "source": [
    "### A little bit about myself\n",
    "\n",
    "Open-Source Developer\n",
    "\n",
    " - Core team member for **Project Jupyter**.\n",
    " - Maintainer of Jupyter **interactive widgets**.\n",
    " - Co-author of **bqplot**, **pythreejs**, **ipyleaflet**.\n",
    " - Co-author of **xtensor**, **xeus**.\n",
    "\n",
    "Founder of QuantStack\n",
    "\n",
    " - http://quantstack.net\n",
    " - We offer services around the open-source scientific computing stack, we build open-source scientific computing software.\n",
    "\n",
    "Mathematician\n",
    "\n",
    " - Formerly Quant at Bloomberg, and adjunct faculty in maths departments of Columbia University & NYU.\n",
    " - Specialize in Probability Theory, Continuous-time Stochastic Analysis\n",
    " - Also in mathematical finance\n",
    "\n",
    "Contact\n",
    "\n",
    " - [Twitter @SylvainCorlay](https://twitter.com/SylvainCorlay)\n",
    " - [GitHub @SylvainCorlay](https://github.com/SylvainCorlay) "
   ]
  },
  {
   "cell_type": "code",
   "execution_count": null,
   "metadata": {},
   "outputs": [],
   "source": []
  }
 ],
 "metadata": {
  "kernelspec": {
   "display_name": "Python 3",
   "language": "python",
   "name": "python3"
  },
  "language_info": {
   "codemirror_mode": {
    "name": "ipython",
    "version": 3
   },
   "file_extension": ".py",
   "mimetype": "text/x-python",
   "name": "python",
   "nbconvert_exporter": "python",
   "pygments_lexer": "ipython3",
   "version": "3.6.5"
  },
  "widgets": {
   "state": {},
   "version": "1.1.2"
  }
 },
 "nbformat": 4,
 "nbformat_minor": 2
}
