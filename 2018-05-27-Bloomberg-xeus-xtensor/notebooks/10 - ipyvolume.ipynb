{
 "cells": [
  {
   "cell_type": "markdown",
   "metadata": {},
   "source": [
    "# ipyvolume https://github.com/maartenbreddels/ipyvolume\n",
    "\n",
    "## 3d plotting for Python in the Jupyter notebook\n",
    "IPyvolume is a Python library to visualize 3d volumes and glyphs (e.g. 3d scatter plots), in the Jupyter notebook, with minimal configuration and effort. It is currently pre-1.0, so use at own risk. IPyvolume’s volshow is to 3d arrays what matplotlib’s imshow is to 2d arrays.\n",
    "\n",
    "- MIT Licensed\n",
    "\n",
    "By Maarten Breddels\n",
    "\n",
    "**Installation:**\n",
    "\n",
    "```bash\n",
    "conda install -c conda-forge ipyvolume\n",
    "```"
   ]
  },
  {
   "cell_type": "markdown",
   "metadata": {},
   "source": [
    "# 3-D Scatter Plots"
   ]
  },
  {
   "cell_type": "code",
   "execution_count": 1,
   "metadata": {},
   "outputs": [
    {
     "data": {
      "application/vnd.jupyter.widget-view+json": {
       "model_id": "eacdd5fa05fd411485e6a25d454a45c3",
       "version_major": 2,
       "version_minor": 0
      },
      "text/plain": [
       "VBox(children=(Figure(camera_center=[0.0, 0.0, 0.0], height=500, matrix_projection=[0.0, 0.0, 0.0, 0.0, 0.0, 0…"
      ]
     },
     "metadata": {},
     "output_type": "display_data"
    }
   ],
   "source": [
    "import ipyvolume\n",
    "import numpy as np\n",
    "x, y, z = np.random.random((3, 10000))\n",
    "ipyvolume.quickscatter(x, y, z, size=1, marker=\"sphere\")"
   ]
  },
  {
   "cell_type": "code",
   "execution_count": 2,
   "metadata": {},
   "outputs": [
    {
     "data": {
      "application/vnd.jupyter.widget-view+json": {
       "model_id": "3ca037ab180644ce88fcaaa87eb34a98",
       "version_major": 2,
       "version_minor": 0
      },
      "text/plain": [
       "VBox(children=(VBox(children=(Figure(camera_center=[0.0, 0.0, 0.0], height=500, matrix_projection=[0.0, 0.0, 0…"
      ]
     },
     "metadata": {},
     "output_type": "display_data"
    }
   ],
   "source": [
    "import ipyvolume.pylab as p3\n",
    "import numpy as np\n",
    "x, y, z, u, v, w = np.random.random((6, 1000))*2-1\n",
    "selected = np.random.randint(0, 1000, 100)\n",
    "p3.figure()\n",
    "quiver = p3.quiver(x, y, z, u, v, w, size=5, size_selected=8, selected=selected)\n",
    "\n",
    "from ipywidgets import FloatSlider, ColorPicker, VBox, jslink\n",
    "size = FloatSlider(min=0, max=30, step=0.1)\n",
    "size_selected = FloatSlider(min=0, max=30, step=0.1)\n",
    "color = ColorPicker()\n",
    "color_selected = ColorPicker()\n",
    "jslink((quiver, 'size'), (size, 'value'))\n",
    "jslink((quiver, 'size_selected'), (size_selected, 'value'))\n",
    "jslink((quiver, 'color'), (color, 'value'))\n",
    "jslink((quiver, 'color_selected'), (color_selected, 'value'))\n",
    "VBox([p3.gcc(), size, size_selected, color, color_selected])"
   ]
  },
  {
   "cell_type": "markdown",
   "metadata": {},
   "source": [
    "# Animations"
   ]
  },
  {
   "cell_type": "code",
   "execution_count": 3,
   "metadata": {},
   "outputs": [],
   "source": [
    "import ipyvolume.pylab as p3\n",
    "import numpy as np"
   ]
  },
  {
   "cell_type": "code",
   "execution_count": 4,
   "metadata": {},
   "outputs": [
    {
     "name": "stdout",
     "output_type": "stream",
     "text": [
      "x,y and z are of shape (25, 25)\n",
      "and flattened of shape (625,)\n"
     ]
    }
   ],
   "source": [
    "# create 2d grids: x, y, and r\n",
    "u = np.linspace(-10, 10, 25)\n",
    "x, y = np.meshgrid(u, u)\n",
    "r = np.sqrt(x**2+y**2)\n",
    "print(\"x,y and z are of shape\", x.shape)\n",
    "# and turn them into 1d\n",
    "x = x.flatten()\n",
    "y = y.flatten()\n",
    "r = r.flatten()\n",
    "print(\"and flattened of shape\", x.shape)"
   ]
  },
  {
   "cell_type": "code",
   "execution_count": 5,
   "metadata": {},
   "outputs": [
    {
     "name": "stdout",
     "output_type": "stream",
     "text": [
      "z is of shape (15, 625)\n"
     ]
    }
   ],
   "source": [
    "# create a sequence of 15 time elements\n",
    "time = np.linspace(0, np.pi*2, 15)\n",
    "z = np.array([(np.cos(r + t) * np.exp(-r/5)) for t in time])\n",
    "print(\"z is of shape\", z.shape)"
   ]
  },
  {
   "cell_type": "code",
   "execution_count": 6,
   "metadata": {},
   "outputs": [
    {
     "name": "stderr",
     "output_type": "stream",
     "text": [
      "/Users/scorlay/miniconda3/lib/python3.6/site-packages/ipykernel_launcher.py:4: DeprecationWarning: Please use animation_control(...)\n",
      "  after removing the cwd from sys.path.\n"
     ]
    },
    {
     "data": {
      "application/vnd.jupyter.widget-view+json": {
       "model_id": "965a66d2fcf3487db931d65412165f52",
       "version_major": 2,
       "version_minor": 0
      },
      "text/plain": [
       "VBox(children=(Figure(animation=200.0, animation_exponent=1.0, camera_center=[0.0, 0.0, 0.0], height=500, matr…"
      ]
     },
     "metadata": {},
     "output_type": "display_data"
    }
   ],
   "source": [
    "# draw the scatter plot, and add controls with animate_glyphs\n",
    "p3.figure()\n",
    "s = p3.scatter(x, z, y, marker=\"sphere\")\n",
    "p3.animate_glyphs(s, interval=200)\n",
    "p3.ylim(-3,3)\n",
    "p3.show()"
   ]
  },
  {
   "cell_type": "code",
   "execution_count": null,
   "metadata": {},
   "outputs": [],
   "source": []
  }
 ],
 "metadata": {
  "kernelspec": {
   "display_name": "Python 3",
   "language": "python",
   "name": "python3"
  },
  "language_info": {
   "codemirror_mode": {
    "name": "ipython",
    "version": 3
   },
   "file_extension": ".py",
   "mimetype": "text/x-python",
   "name": "python",
   "nbconvert_exporter": "python",
   "pygments_lexer": "ipython3",
   "version": "3.6.4"
  }
 },
 "nbformat": 4,
 "nbformat_minor": 2
}
