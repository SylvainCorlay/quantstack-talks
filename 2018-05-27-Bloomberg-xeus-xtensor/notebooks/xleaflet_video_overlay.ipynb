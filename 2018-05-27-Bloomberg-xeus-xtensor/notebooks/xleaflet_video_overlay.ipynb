{
 "cells": [
  {
   "cell_type": "markdown",
   "metadata": {},
   "source": [
    "![alt text](http://quantstack.net/assets/images/xleaflet.svg)"
   ]
  },
  {
   "cell_type": "markdown",
   "metadata": {},
   "source": [
    "<center> <h1>C++ backend for the jupyter-leaflet map visualization library</h1> </center>"
   ]
  },
  {
   "cell_type": "markdown",
   "metadata": {},
   "source": [
    "<center> <h1>Video Overlay</h1> </center>"
   ]
  },
  {
   "cell_type": "code",
   "execution_count": null,
   "metadata": {},
   "outputs": [],
   "source": [
    "#include \"xleaflet/xmap.hpp\"\n",
    "#include \"xleaflet/xvideo_overlay.hpp\""
   ]
  },
  {
   "cell_type": "code",
   "execution_count": null,
   "metadata": {},
   "outputs": [],
   "source": [
    "auto map = xlf::map_generator()\n",
    "    .center({25, -115})\n",
    "    .zoom(4)\n",
    "    .finalize();\n",
    "\n",
    "auto video = xlf::video_overlay_generator()\n",
    "    .url(\"https://www.mapbox.com/bites/00188/patricia_nasa.webm\")\n",
    "    .bounds({{{13, -130}, {32, -100}}})\n",
    "    .finalize();\n",
    "\n",
    "map.add_layer(video);\n",
    "map"
   ]
  }
 ],
 "metadata": {
  "kernelspec": {
   "display_name": "C++14",
   "language": "C++14",
   "name": "xeus-cling-cpp14"
  },
  "language_info": {
   "codemirror_mode": "text/x-c++src",
   "file_extension": ".cpp",
   "mimetype": "text/x-c++src",
   "name": "c++",
   "version": "14"
  }
 },
 "nbformat": 4,
 "nbformat_minor": 2
}
