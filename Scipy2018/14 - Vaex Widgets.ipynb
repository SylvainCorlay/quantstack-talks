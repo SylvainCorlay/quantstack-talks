{
 "cells": [
  {
   "cell_type": "markdown",
   "metadata": {},
   "source": [
    "# What if millions of points are not enough?\n",
    "\n",
    "## Vaex: Visualization and eXploration\n",
    "\n",
    "https://github.com/maartenbreddels/vaex\n",
    "\n",
    "A data decimation engine for Jupyter interactive widgets, by **Maarten Breddels**\n",
    "\n",
    "\n",
    " - Vaex is a an Out-of-Core DataFrames (similar to Pandas) to visualize and explore big tabular datasets.\n",
    " \n",
    " - It can calculate statistics such as `mean`, `sum`, `count`, standard deviation etc, on an N-dimensional grid up to **a billion (109) objects/rows per second**.\n",
    " - Visualization is done using histograms, density plots and 3-D volume rendering, allowing interactive exploration of big data.\n",
    " \n",
    "Vaex uses **memory mapping**, **zero memory copy policy** and **lazy computations** for best performance (no memory wasted)."
   ]
  },
  {
   "cell_type": "markdown",
   "metadata": {},
   "source": [
    "## Example 1: The NYC taxi dataset + ipyleaflet\n",
    "\n",
    "25 Gb in a single hdf5 file lying on my my local hard drive."
   ]
  },
  {
   "cell_type": "code",
   "execution_count": null,
   "metadata": {},
   "outputs": [],
   "source": [
    "import vaex\n",
    "import numpy as np\n",
    "np.warnings.filterwarnings('ignore')\n",
    "dstaxi = vaex.open('nyc_taxi2015.hdf5') # mmapped, doesn't cost extra memory"
   ]
  },
  {
   "cell_type": "code",
   "execution_count": null,
   "metadata": {},
   "outputs": [],
   "source": [
    "dstaxi.plot_widget(\"pickup_longitude\", \"pickup_latitude\", f=\"log\", backend=\"ipyleaflet\", shape=600)"
   ]
  },
  {
   "cell_type": "code",
   "execution_count": null,
   "metadata": {},
   "outputs": [],
   "source": [
    "dstaxi.plot_widget(\"dropoff_longitude\", \"dropoff_latitude\", f=\"log\", backend=\"ipyleaflet\",\n",
    "                   z=\"dropoff_hour\", type=\"slice\", z_shape=24, shape=400, z_relative=True,\n",
    "                   limits=[None, None, (-0.5, 23.5)])"
   ]
  },
  {
   "cell_type": "markdown",
   "metadata": {},
   "source": [
    "## Example 2: Gaia dataset + bqplot"
   ]
  },
  {
   "cell_type": "code",
   "execution_count": null,
   "metadata": {},
   "outputs": [],
   "source": [
    "ds = vaex.open('helmi-dezeeuw-2000-FeH.hdf5')"
   ]
  },
  {
   "cell_type": "code",
   "execution_count": null,
   "metadata": {},
   "outputs": [],
   "source": [
    "ds.plot_widget(\"x\", \"y\", f=\"log\", limits=[-20, 20])"
   ]
  },
  {
   "cell_type": "code",
   "execution_count": null,
   "metadata": {},
   "outputs": [],
   "source": [
    "ds.plot_widget(\"Lz\", \"E\", f=\"log\")"
   ]
  }
 ],
 "metadata": {
  "anaconda-cloud": {},
  "kernelspec": {
   "display_name": "Python 3",
   "language": "python",
   "name": "python3"
  },
  "language_info": {
   "codemirror_mode": {
    "name": "ipython",
    "version": 3
   },
   "file_extension": ".py",
   "mimetype": "text/x-python",
   "name": "python",
   "nbconvert_exporter": "python",
   "pygments_lexer": "ipython3",
   "version": "3.6.5"
  }
 },
 "nbformat": 4,
 "nbformat_minor": 2
}
