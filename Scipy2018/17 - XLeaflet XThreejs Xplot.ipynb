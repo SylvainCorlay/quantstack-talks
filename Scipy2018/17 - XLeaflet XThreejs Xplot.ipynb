{
 "cells": [
  {
   "cell_type": "markdown",
   "metadata": {},
   "source": [
    "# Xleaflet\n",
    "\n",
    "A C++ backend for the `jupyter-leaflet` map visualization library\n",
    "\n",
    "https://github.com/QuantStack/xleaflet/\n",
    "\n",
    "BSD-licensed"
   ]
  },
  {
   "cell_type": "code",
   "execution_count": 2,
   "metadata": {},
   "outputs": [],
   "source": [
    "#include <iostream>\n",
    "#include <string>\n",
    "\n",
    "#include \"xleaflet/xmap.hpp\"\n",
    "#include \"xleaflet/xtile_layer.hpp\"\n",
    "#include \"xleaflet/xmarker.hpp\"\n",
    "#include \"xleaflet/xmarker_cluster.hpp\"\n",
    "#include \"xleaflet/xbasemaps.hpp\"\n",
    "\n",
    "#include \"xwidgets/xbox.hpp\"\n",
    "#include \"xwidgets/xtext.hpp\"\n",
    "#include \"xwidgets/xlabel.hpp\""
   ]
  },
  {
   "cell_type": "code",
   "execution_count": 3,
   "metadata": {},
   "outputs": [
    {
     "data": {
      "application/vnd.jupyter.widget-view+json": {
       "model_id": "bebeaa8b869c4f6f9f30a67dce237b3b",
       "version_major": 2,
       "version_minor": 0
      },
      "text/plain": [
       "A Jupyter widget"
      ]
     },
     "execution_count": 3,
     "metadata": {},
     "output_type": "execute_result"
    }
   ],
   "source": [
    "auto map = xlf::map_generator()\n",
    "    .center({50, 354})\n",
    "    .zoom(5)\n",
    "    .finalize();\n",
    "\n",
    "xw::vbox vbox;\n",
    "xw::hbox hbox1, hbox2;\n",
    "xw::label label1, label2;\n",
    "xw::text center, mouse_position;\n",
    "\n",
    "center.disabled = true;\n",
    "mouse_position.disabled = true;\n",
    "\n",
    "vbox.add(map);\n",
    "vbox.add(hbox1);\n",
    "vbox.add(hbox2);\n",
    "\n",
    "label1.value = \"Center:\";\n",
    "center.value = \"[50.0, 354.0]\";\n",
    "hbox1.add(label1);\n",
    "hbox1.add(center);\n",
    "\n",
    "label2.value = \"Mouse position:\";\n",
    "mouse_position.value = \"Mouse out\";\n",
    "hbox2.add(label2);\n",
    "hbox2.add(mouse_position);\n",
    "\n",
    "vbox"
   ]
  },
  {
   "cell_type": "markdown",
   "metadata": {},
   "source": [
    "## Observe map center and mouse position:"
   ]
  },
  {
   "cell_type": "code",
   "execution_count": 4,
   "metadata": {},
   "outputs": [],
   "source": [
    "void update_center(xlf::map& map)\n",
    "{\n",
    "    std::string lat = std::to_string(map.center().front());\n",
    "    std::string lng = std::to_string(map.center().back());\n",
    "    \n",
    "    center.value = \"[\" + lat + \", \" + lng + \"]\";\n",
    "}\n",
    "\n",
    "XOBSERVE(map, center, update_center);"
   ]
  },
  {
   "cell_type": "code",
   "execution_count": 5,
   "metadata": {},
   "outputs": [],
   "source": [
    "void update_mouse_position(xeus::xjson event)\n",
    "{\n",
    "    if (event[\"type\"] == \"mousemove\")\n",
    "    {\n",
    "        mouse_position.value = event[\"coordinates\"].dump();\n",
    "    }\n",
    "    \n",
    "    if (event[\"type\"] == \"mouseout\")\n",
    "    {\n",
    "        mouse_position.value = \"Mouse out\";\n",
    "    }\n",
    "}\n",
    "\n",
    "map.on_interaction(update_mouse_position);"
   ]
  },
  {
   "cell_type": "markdown",
   "metadata": {},
   "source": [
    "## Add a tile layer"
   ]
  },
  {
   "cell_type": "code",
   "execution_count": 6,
   "metadata": {},
   "outputs": [],
   "source": [
    "auto nasa_layer = xlf::basemap({\"NASAGIBS\", \"ModisTerraTrueColorCR\"}, \"2017-04-08\");\n",
    "map.add_layer(nasa_layer);"
   ]
  },
  {
   "cell_type": "markdown",
   "metadata": {},
   "source": [
    "## Add a marker cluster"
   ]
  },
  {
   "cell_type": "code",
   "execution_count": 7,
   "metadata": {},
   "outputs": [],
   "source": [
    "auto marker1 = xlf::marker_generator()\n",
    "    .location({50, 354})\n",
    "    .finalize();\n",
    "auto marker2 = xlf::marker_generator()\n",
    "    .location({52, 356})\n",
    "    .finalize();\n",
    "auto marker3 = xlf::marker_generator()\n",
    "    .location({48, 352})\n",
    "    .finalize();\n",
    "auto marker_cluster = xlf::marker_cluster_generator()\n",
    "    .markers({marker1, marker2, marker3})\n",
    "    .finalize();\n",
    "\n",
    "map.add_layer(marker_cluster);"
   ]
  },
  {
   "cell_type": "markdown",
   "metadata": {},
   "source": [
    "## Name Drop\n",
    "\n",
    " - Martin Renou authored most of `xleaflet`.\n",
    " \n",
    " http://xleaflet.readthedocs.io vs http://ipyleaflet.readthedocs.io"
   ]
  },
  {
   "cell_type": "markdown",
   "metadata": {},
   "source": [
    "# xthreejs\n",
    "\n",
    "A C++ backend to jupyter-threejs 3-D visualization library\n",
    "\n",
    "https://github.com/QuantStack/xthreejs/\n",
    "\n",
    "By **Loic Gouarin**\n",
    "\n",
    "**(Still pre-alpha)**\n",
    "\n",
    "Over 250 widgets generated with the same engine as the Python + JavaScript generation tool of pythreejs"
   ]
  },
  {
   "cell_type": "code",
   "execution_count": 8,
   "metadata": {},
   "outputs": [],
   "source": [
    "#include <xthreejs/xbase.hpp>\n",
    "#include <xthreejs/xcore.hpp>\n",
    "#include <xthreejs/xgeometries.hpp>\n",
    "#include <cmath>"
   ]
  },
  {
   "cell_type": "code",
   "execution_count": 9,
   "metadata": {},
   "outputs": [
    {
     "data": {
      "application/vnd.jupyter.widget-view+json": {
       "model_id": "",
       "version_major": 2,
       "version_minor": 0
      },
      "text/plain": [
       "A Jupyter widget"
      ]
     },
     "execution_count": 9,
     "metadata": {},
     "output_type": "execute_result"
    }
   ],
   "source": [
    "xthree::box_geometry_generator()\n",
    "    .width(5) \n",
    "    .height(10) \n",
    "    .depth(15)\n",
    "    .widthSegments(5) \n",
    "    .heightSegments(10)\n",
    "    .depthSegments(15)\n",
    "    .finalize()"
   ]
  },
  {
   "cell_type": "code",
   "execution_count": 10,
   "metadata": {},
   "outputs": [
    {
     "data": {
      "application/vnd.jupyter.widget-view+json": {
       "model_id": "",
       "version_major": 2,
       "version_minor": 0
      },
      "text/plain": [
       "A Jupyter widget"
      ]
     },
     "execution_count": 10,
     "metadata": {},
     "output_type": "execute_result"
    }
   ],
   "source": [
    "xthree::cylinder_geometry_generator()\n",
    "    .radiusTop(5)\n",
    "    .radiusBottom(10)\n",
    "    .height(15)\n",
    "    .radiusSegments(6)\n",
    "    .heightSegments(10)\n",
    "    .openEnded(false) \n",
    "    .thetaStart(0) \n",
    "    .thetaLength(2.0*M_PI)\n",
    "    .finalize()"
   ]
  },
  {
   "cell_type": "markdown",
   "metadata": {},
   "source": [
    "## Name Drop\n",
    "\n",
    " - Authored by Loic Gouarin"
   ]
  },
  {
   "cell_type": "code",
   "execution_count": null,
   "metadata": {},
   "outputs": [],
   "source": []
  }
 ],
 "metadata": {
  "kernelspec": {
   "display_name": "C++14",
   "language": "C++14",
   "name": "xeus-cling-cpp14"
  },
  "language_info": {
   "codemirror_mode": "text/x-c++src",
   "file_extension": ".cpp",
   "mimetype": "text/x-c++src",
   "name": "c++",
   "version": "-std=c++14"
  }
 },
 "nbformat": 4,
 "nbformat_minor": 2
}
