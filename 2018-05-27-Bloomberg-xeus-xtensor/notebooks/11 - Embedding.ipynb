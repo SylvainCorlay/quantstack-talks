{
 "cells": [
  {
   "cell_type": "markdown",
   "metadata": {},
   "source": [
    "# What is New in ipywidgets 6.0?"
   ]
  },
  {
   "cell_type": "code",
   "execution_count": 1,
   "metadata": {
    "scrolled": true
   },
   "outputs": [
    {
     "data": {
      "application/vnd.jupyter.widget-view+json": {
       "model_id": "203e4814e78e49aa93990e79ec27c875",
       "version_major": 2,
       "version_minor": 0
      },
      "text/html": [
       "<p>Failed to display Jupyter Widget of type <code>VBox</code>.</p>\n",
       "<p>\n",
       "  If you're reading this message in the Jupyter Notebook or JupyterLab Notebook, it may mean\n",
       "  that the widgets JavaScript is still loading. If this message persists, it\n",
       "  likely means that the widgets JavaScript library is either not installed or\n",
       "  not enabled. See the <a href=\"https://ipywidgets.readthedocs.io/en/stable/user_install.html\">Jupyter\n",
       "  Widgets Documentation</a> for setup instructions.\n",
       "</p>\n",
       "<p>\n",
       "  If you're reading this message in another frontend (for example, a static\n",
       "  rendering on GitHub or <a href=\"https://nbviewer.jupyter.org/\">NBViewer</a>),\n",
       "  it may mean that your frontend doesn't currently support widgets.\n",
       "</p>\n"
      ],
      "text/plain": [
       "VBox(children=(IntSlider(value=100, description='Maximum', max=200, min=100), IntSlider(value=40, description='Value')))"
      ]
     },
     "metadata": {},
     "output_type": "display_data"
    }
   ],
   "source": [
    "from ipywidgets import VBox, jsdlink, IntSlider, HTML, Layout\n",
    "\n",
    "s1 = IntSlider(description='Maximum', min=100, max=200, value=100)\n",
    "s2 = IntSlider(description='Value', value=40)\n",
    "jsdlink((s1, 'value'), (s2, 'max'))\n",
    "VBox([s1, s2])"
   ]
  },
  {
   "cell_type": "code",
   "execution_count": 2,
   "metadata": {},
   "outputs": [
    {
     "data": {
      "application/vnd.jupyter.widget-view+json": {
       "model_id": "465f9c336f7e4d93b97986705d07a1c3",
       "version_major": 2,
       "version_minor": 0
      },
      "text/html": [
       "<p>Failed to display Jupyter Widget of type <code>VBox</code>.</p>\n",
       "<p>\n",
       "  If you're reading this message in the Jupyter Notebook or JupyterLab Notebook, it may mean\n",
       "  that the widgets JavaScript is still loading. If this message persists, it\n",
       "  likely means that the widgets JavaScript library is either not installed or\n",
       "  not enabled. See the <a href=\"https://ipywidgets.readthedocs.io/en/stable/user_install.html\">Jupyter\n",
       "  Widgets Documentation</a> for setup instructions.\n",
       "</p>\n",
       "<p>\n",
       "  If you're reading this message in another frontend (for example, a static\n",
       "  rendering on GitHub or <a href=\"https://nbviewer.jupyter.org/\">NBViewer</a>),\n",
       "  it may mean that your frontend doesn't currently support widgets.\n",
       "</p>\n"
      ],
      "text/plain": [
       "VBox(children=(Figure(axes=[Axis(scale=LinearScale()), Axis(orientation='vertical', scale=LinearScale())], fig_margin={'top': 60, 'bottom': 60, 'left': 60, 'right': 60}, layout=Layout(height='400px', width='800px'), marks=[Scatter(colors=['steelblue'], interactions={'hover': 'tooltip'}, scales={'x': LinearScale(), 'y': LinearScale()}, scales_metadata={'x': {'orientation': 'horizontal', 'dimension': 'x'}, 'y': {'orientation': 'vertical', 'dimension': 'y'}, 'color': {'dimension': 'color'}, 'size': {'dimension': 'size'}, 'opacity': {'dimension': 'opacity'}, 'rotation': {'dimension': 'rotation'}, 'skew': {'dimension': 'skew'}}, tooltip_style={'opacity': 0.9}, x=array([-0.14330333,  1.08479185, -0.00510994, -0.73294765,  1.66416372,\n",
       "        0.05694589,  0.39610932, -0.37819242, -0.7176157 ,  0.03979083,\n",
       "       -0.02387606, -0.12238609, -0.48889481,  0.18078104, -0.76685607,\n",
       "       -0.35448089, -1.79241787, -0.05450492, -0.51746181, -0.62004128,\n",
       "       -0.97135391,  2.36795262,  1.00738904,  1.03223122,  0.63927493,\n",
       "        0.61631606, -0.39088483, -1.06226638,  0.70454599,  1.24269852,\n",
       "        0.15619116, -0.39498161,  1.9050488 ,  0.24472644, -0.5335297 ,\n",
       "        0.95717433, -0.83884433, -0.00709356, -0.61198439,  2.10160445,\n",
       "       -0.72002921,  0.34534271,  0.05852408,  0.97463857,  1.13187493,\n",
       "       -1.05706647,  0.34715805, -0.22924173, -0.41483516, -1.03909353,\n",
       "        1.82370446, -0.22276829, -0.84726427,  0.26325133,  0.00825931,\n",
       "        1.39667685,  1.00282381, -0.16231041,  0.61756641,  0.01563569,\n",
       "       -1.23791629,  2.08526352,  1.98199695,  0.45824815,  0.05714464,\n",
       "        0.7887157 , -0.49368434,  0.14659639, -1.78783647,  1.34481087,\n",
       "       -0.29155608,  0.12528935, -2.12912325, -0.5884168 , -0.27808225,\n",
       "       -1.03905418,  1.10501198,  0.23655824,  0.56722411,  1.39926398,\n",
       "        0.99189629,  0.53761752,  1.11141968, -0.81651082, -0.15672413,\n",
       "       -1.47205081,  0.71766733,  1.43543248,  1.57483283,  0.40421276,\n",
       "        1.83038204, -0.00692398,  1.45236503, -2.74818617, -0.30694515,\n",
       "       -2.24434758, -0.2323785 ,  1.02968145,  1.57002668,  0.25972415]), y=array([-1.10914397, -0.84906877,  0.6939429 , -1.50450395,  0.44064455,\n",
       "        0.94462377, -0.6120473 , -0.75465984, -0.36099195, -1.03793633,\n",
       "       -2.38916252, -0.34238791,  0.10510201,  0.14907052,  1.09791571,\n",
       "       -0.19083547,  0.54664602, -0.97938312, -1.56632388, -0.05476942,\n",
       "       -0.19172182, -0.54268614,  0.66023485, -0.46810683, -2.13008669,\n",
       "        0.56016737,  0.28211144,  0.2558935 , -0.71108967,  0.3831766 ,\n",
       "       -2.15148474, -0.02034588, -0.22241229,  1.20200796, -0.53373044,\n",
       "       -0.04683034, -0.4735281 ,  0.06968907,  0.77268539, -0.22822527,\n",
       "        0.31561345, -0.24163762, -1.40916415, -0.91324183, -1.03635932,\n",
       "        1.37067146, -0.07806229, -1.20965716, -0.41910003,  0.91991857,\n",
       "        0.21935611, -0.41346668, -0.33703978, -1.26095612, -1.10426662,\n",
       "        0.64182779, -0.65128899, -1.64130116, -0.92562378, -0.43980644,\n",
       "        0.04661058, -0.06075094,  0.2936516 ,  0.90748147,  0.74711526,\n",
       "        0.33348157,  0.46385449,  0.26655494,  0.48430999, -1.93028469,\n",
       "       -1.36222034, -0.54351616,  0.53723982, -0.05535186,  0.1001037 ,\n",
       "       -0.50577047, -0.21775052,  0.78649247, -0.76166313,  1.94434811,\n",
       "        0.28829502, -0.6444327 , -0.10786141,  0.38924192, -1.26766359,\n",
       "       -0.34831579, -1.91964204,  1.08007405,  0.13513702,  1.32360982,\n",
       "       -1.67203813, -0.65631425,  0.57510846,  1.94346733, -0.00664765,\n",
       "        1.62182732, -1.05392098,  0.68954079,  0.42217266, -0.10930698]))], scale_x=LinearScale(allow_padding=False, max=1.0, min=0.0), scale_y=LinearScale(allow_padding=False, max=1.0, min=0.0)), Toolbar(figure=Figure(axes=[Axis(scale=LinearScale()), Axis(orientation='vertical', scale=LinearScale())], fig_margin={'top': 60, 'bottom': 60, 'left': 60, 'right': 60}, layout=Layout(height='400px', width='800px'), marks=[Scatter(colors=['steelblue'], interactions={'hover': 'tooltip'}, scales={'x': LinearScale(), 'y': LinearScale()}, scales_metadata={'x': {'orientation': 'horizontal', 'dimension': 'x'}, 'y': {'orientation': 'vertical', 'dimension': 'y'}, 'color': {'dimension': 'color'}, 'size': {'dimension': 'size'}, 'opacity': {'dimension': 'opacity'}, 'rotation': {'dimension': 'rotation'}, 'skew': {'dimension': 'skew'}}, tooltip_style={'opacity': 0.9}, x=array([-0.14330333,  1.08479185, -0.00510994, -0.73294765,  1.66416372,\n",
       "        0.05694589,  0.39610932, -0.37819242, -0.7176157 ,  0.03979083,\n",
       "       -0.02387606, -0.12238609, -0.48889481,  0.18078104, -0.76685607,\n",
       "       -0.35448089, -1.79241787, -0.05450492, -0.51746181, -0.62004128,\n",
       "       -0.97135391,  2.36795262,  1.00738904,  1.03223122,  0.63927493,\n",
       "        0.61631606, -0.39088483, -1.06226638,  0.70454599,  1.24269852,\n",
       "        0.15619116, -0.39498161,  1.9050488 ,  0.24472644, -0.5335297 ,\n",
       "        0.95717433, -0.83884433, -0.00709356, -0.61198439,  2.10160445,\n",
       "       -0.72002921,  0.34534271,  0.05852408,  0.97463857,  1.13187493,\n",
       "       -1.05706647,  0.34715805, -0.22924173, -0.41483516, -1.03909353,\n",
       "        1.82370446, -0.22276829, -0.84726427,  0.26325133,  0.00825931,\n",
       "        1.39667685,  1.00282381, -0.16231041,  0.61756641,  0.01563569,\n",
       "       -1.23791629,  2.08526352,  1.98199695,  0.45824815,  0.05714464,\n",
       "        0.7887157 , -0.49368434,  0.14659639, -1.78783647,  1.34481087,\n",
       "       -0.29155608,  0.12528935, -2.12912325, -0.5884168 , -0.27808225,\n",
       "       -1.03905418,  1.10501198,  0.23655824,  0.56722411,  1.39926398,\n",
       "        0.99189629,  0.53761752,  1.11141968, -0.81651082, -0.15672413,\n",
       "       -1.47205081,  0.71766733,  1.43543248,  1.57483283,  0.40421276,\n",
       "        1.83038204, -0.00692398,  1.45236503, -2.74818617, -0.30694515,\n",
       "       -2.24434758, -0.2323785 ,  1.02968145,  1.57002668,  0.25972415]), y=array([-1.10914397, -0.84906877,  0.6939429 , -1.50450395,  0.44064455,\n",
       "        0.94462377, -0.6120473 , -0.75465984, -0.36099195, -1.03793633,\n",
       "       -2.38916252, -0.34238791,  0.10510201,  0.14907052,  1.09791571,\n",
       "       -0.19083547,  0.54664602, -0.97938312, -1.56632388, -0.05476942,\n",
       "       -0.19172182, -0.54268614,  0.66023485, -0.46810683, -2.13008669,\n",
       "        0.56016737,  0.28211144,  0.2558935 , -0.71108967,  0.3831766 ,\n",
       "       -2.15148474, -0.02034588, -0.22241229,  1.20200796, -0.53373044,\n",
       "       -0.04683034, -0.4735281 ,  0.06968907,  0.77268539, -0.22822527,\n",
       "        0.31561345, -0.24163762, -1.40916415, -0.91324183, -1.03635932,\n",
       "        1.37067146, -0.07806229, -1.20965716, -0.41910003,  0.91991857,\n",
       "        0.21935611, -0.41346668, -0.33703978, -1.26095612, -1.10426662,\n",
       "        0.64182779, -0.65128899, -1.64130116, -0.92562378, -0.43980644,\n",
       "        0.04661058, -0.06075094,  0.2936516 ,  0.90748147,  0.74711526,\n",
       "        0.33348157,  0.46385449,  0.26655494,  0.48430999, -1.93028469,\n",
       "       -1.36222034, -0.54351616,  0.53723982, -0.05535186,  0.1001037 ,\n",
       "       -0.50577047, -0.21775052,  0.78649247, -0.76166313,  1.94434811,\n",
       "        0.28829502, -0.6444327 , -0.10786141,  0.38924192, -1.26766359,\n",
       "       -0.34831579, -1.91964204,  1.08007405,  0.13513702,  1.32360982,\n",
       "       -1.67203813, -0.65631425,  0.57510846,  1.94346733, -0.00664765,\n",
       "        1.62182732, -1.05392098,  0.68954079,  0.42217266, -0.10930698]))], scale_x=LinearScale(allow_padding=False, max=1.0, min=0.0), scale_y=LinearScale(allow_padding=False, max=1.0, min=0.0)))))"
      ]
     },
     "metadata": {},
     "output_type": "display_data"
    }
   ],
   "source": [
    "import numpy as np\n",
    "from bqplot import pyplot as plt\n",
    "\n",
    "n = 100\n",
    "plt.figure(layout=Layout(width='800px', height='400px'))\n",
    "plt.scatter(np.random.randn(n), np.random.randn(n))\n",
    "plt.show()"
   ]
  },
  {
   "cell_type": "code",
   "execution_count": null,
   "metadata": {},
   "outputs": [],
   "source": []
  }
 ],
 "metadata": {
  "kernelspec": {
   "display_name": "Python 3",
   "language": "python",
   "name": "python3"
  },
  "language_info": {
   "codemirror_mode": {
    "name": "ipython",
    "version": 3
   },
   "file_extension": ".py",
   "mimetype": "text/x-python",
   "name": "python",
   "nbconvert_exporter": "python",
   "pygments_lexer": "ipython3",
   "version": "3.6.3"
  }
 },
 "nbformat": 4,
 "nbformat_minor": 1
}
