{
 "cells": [
  {
   "cell_type": "markdown",
   "metadata": {},
   "source": [
    "# Xleaflet\n",
    "\n",
    "A C++ backend for the `jupyter-leaflet` map visualization library\n",
    "\n",
    "https://github.com/QuantStack/xleaflet/\n",
    "\n",
    "BSD-licensed"
   ]
  },
  {
   "cell_type": "code",
   "execution_count": null,
   "metadata": {},
   "outputs": [],
   "source": [
    "#include <iostream>\n",
    "#include <string>\n",
    "\n",
    "#include \"xleaflet/xmap.hpp\"\n",
    "#include \"xleaflet/xtile_layer.hpp\"\n",
    "#include \"xleaflet/xmarker.hpp\"\n",
    "#include \"xleaflet/xmarker_cluster.hpp\"\n",
    "#include \"xleaflet/xbasemaps.hpp\"\n",
    "\n",
    "#include \"xwidgets/xbox.hpp\"\n",
    "#include \"xwidgets/xtext.hpp\"\n",
    "#include \"xwidgets/xlabel.hpp\""
   ]
  },
  {
   "cell_type": "code",
   "execution_count": null,
   "metadata": {},
   "outputs": [],
   "source": [
    "auto map = xlf::map_generator()\n",
    "    .center({50, 354})\n",
    "    .zoom(5)\n",
    "    .finalize();\n",
    "\n",
    "xw::vbox vbox;\n",
    "xw::hbox hbox1, hbox2;\n",
    "xw::label label1, label2;\n",
    "xw::text center, mouse_position;\n",
    "\n",
    "center.disabled = true;\n",
    "mouse_position.disabled = true;\n",
    "\n",
    "vbox.add(map);\n",
    "vbox.add(hbox1);\n",
    "vbox.add(hbox2);\n",
    "\n",
    "label1.value = \"Center:\";\n",
    "center.value = \"[50.0, 354.0]\";\n",
    "hbox1.add(label1);\n",
    "hbox1.add(center);\n",
    "\n",
    "label2.value = \"Mouse position:\";\n",
    "mouse_position.value = \"Mouse out\";\n",
    "hbox2.add(label2);\n",
    "hbox2.add(mouse_position);\n",
    "\n",
    "vbox"
   ]
  },
  {
   "cell_type": "markdown",
   "metadata": {},
   "source": [
    "## Observe map center and mouse position:"
   ]
  },
  {
   "cell_type": "code",
   "execution_count": null,
   "metadata": {},
   "outputs": [],
   "source": [
    "void update_center(xlf::map& map)\n",
    "{\n",
    "    std::string lat = std::to_string(map.center().front());\n",
    "    std::string lng = std::to_string(map.center().back());\n",
    "    \n",
    "    center.value = \"[\" + lat + \", \" + lng + \"]\";\n",
    "}\n",
    "\n",
    "XOBSERVE(map, center, update_center);"
   ]
  },
  {
   "cell_type": "code",
   "execution_count": null,
   "metadata": {},
   "outputs": [],
   "source": [
    "void update_mouse_position(xeus::xjson event)\n",
    "{\n",
    "    if (event[\"type\"] == \"mousemove\")\n",
    "    {\n",
    "        mouse_position.value = event[\"coordinates\"].dump();\n",
    "    }\n",
    "    \n",
    "    if (event[\"type\"] == \"mouseout\")\n",
    "    {\n",
    "        mouse_position.value = \"Mouse out\";\n",
    "    }\n",
    "}\n",
    "\n",
    "map.on_interaction(update_mouse_position);"
   ]
  },
  {
   "cell_type": "markdown",
   "metadata": {},
   "source": [
    "## Add a tile layer"
   ]
  },
  {
   "cell_type": "code",
   "execution_count": null,
   "metadata": {},
   "outputs": [],
   "source": [
    "auto nasa_layer = xlf::basemap({\"NASAGIBS\", \"ModisTerraTrueColorCR\"}, \"2017-04-08\");\n",
    "map.add_layer(nasa_layer);"
   ]
  },
  {
   "cell_type": "markdown",
   "metadata": {},
   "source": [
    "## Add a marker cluster"
   ]
  },
  {
   "cell_type": "code",
   "execution_count": null,
   "metadata": {},
   "outputs": [],
   "source": [
    "auto marker1 = xlf::marker_generator()\n",
    "    .location({50, 354})\n",
    "    .finalize();\n",
    "auto marker2 = xlf::marker_generator()\n",
    "    .location({52, 356})\n",
    "    .finalize();\n",
    "auto marker3 = xlf::marker_generator()\n",
    "    .location({48, 352})\n",
    "    .finalize();\n",
    "auto marker_cluster = xlf::marker_cluster_generator()\n",
    "    .markers({marker1, marker2, marker3})\n",
    "    .finalize();\n",
    "\n",
    "map.add_layer(marker_cluster);"
   ]
  },
  {
   "cell_type": "markdown",
   "metadata": {},
   "source": [
    "## Name Drop\n",
    "\n",
    " - Martin Renou authored most of `xleaflet`.\n",
    " \n",
    " http://xleaflet.readthedocs.io vs http://ipyleaflet.readthedocs.io"
   ]
  },
  {
   "cell_type": "markdown",
   "metadata": {},
   "source": [
    "# xplot\n",
    "\n",
    "A C++ backend to bqplot\n",
    "\n",
    "https://github.com/QuantStack/xplot/"
   ]
  },
  {
   "cell_type": "code",
   "execution_count": null,
   "metadata": {},
   "outputs": [],
   "source": [
    "#include \"random.hpp\"\n",
    "#include \"xplot/xfigure.hpp\"\n",
    "#include \"xplot/xmarks.hpp\"\n",
    "#include \"xplot/xaxes.hpp\"\n",
    "#include \"xplot/xtoolbar.hpp\""
   ]
  },
  {
   "cell_type": "code",
   "execution_count": null,
   "metadata": {},
   "outputs": [],
   "source": [
    "std::size_t size = 100;\n",
    "std::vector<double> x_data(size);\n",
    "std::iota(x_data.begin(), x_data.end(), 0);\n",
    "std::vector<double> y_data = randn(size);"
   ]
  },
  {
   "cell_type": "code",
   "execution_count": null,
   "metadata": {},
   "outputs": [],
   "source": [
    "xpl::linear_scale xs, ys;\n",
    "xpl::scatter scatter(xs, ys)"
   ]
  },
  {
   "cell_type": "code",
   "execution_count": null,
   "metadata": {},
   "outputs": [],
   "source": [
    "scatter.x = x_data;\n",
    "scatter.y = y_data;"
   ]
  },
  {
   "cell_type": "code",
   "execution_count": null,
   "metadata": {},
   "outputs": [],
   "source": [
    "xpl::axis ax_x(xs), ax_y(ys);\n",
    "ax_y.orientation = \"vertical\";"
   ]
  },
  {
   "cell_type": "code",
   "execution_count": null,
   "metadata": {},
   "outputs": [],
   "source": [
    "xpl::figure fig;\n",
    "fig.padding_x = 0.025;\n",
    "fig.add_mark(scatter);\n",
    "fig.add_axis(ax_x);\n",
    "fig.add_axis(ax_y);\n",
    "fig.padding_y = 0.025;"
   ]
  },
  {
   "cell_type": "code",
   "execution_count": null,
   "metadata": {},
   "outputs": [],
   "source": [
    "xpl::toolbar toolbar(fig);"
   ]
  },
  {
   "cell_type": "code",
   "execution_count": null,
   "metadata": {},
   "outputs": [],
   "source": [
    "#include \"xwidgets/xbox.hpp\""
   ]
  },
  {
   "cell_type": "code",
   "execution_count": null,
   "metadata": {},
   "outputs": [],
   "source": [
    "xw::vbox b;\n",
    "b.add(fig);\n",
    "b.add(toolbar);"
   ]
  },
  {
   "cell_type": "code",
   "execution_count": null,
   "metadata": {},
   "outputs": [],
   "source": [
    "b"
   ]
  },
  {
   "cell_type": "code",
   "execution_count": null,
   "metadata": {},
   "outputs": [],
   "source": [
    "fig.animation_duration = 1000;"
   ]
  },
  {
   "cell_type": "code",
   "execution_count": null,
   "metadata": {},
   "outputs": [],
   "source": [
    "scatter.x = randn(size);\n",
    "scatter.y = randn(size);"
   ]
  },
  {
   "cell_type": "code",
   "execution_count": null,
   "metadata": {},
   "outputs": [],
   "source": []
  }
 ],
 "metadata": {
  "kernelspec": {
   "display_name": "C++14",
   "language": "C++14",
   "name": "xeus-cling-cpp14"
  },
  "language_info": {
   "codemirror_mode": "text/x-c++src",
   "file_extension": ".cpp",
   "mimetype": "text/x-c++src",
   "name": "c++",
   "version": "-std=c++14"
  }
 },
 "nbformat": 4,
 "nbformat_minor": 2
}
