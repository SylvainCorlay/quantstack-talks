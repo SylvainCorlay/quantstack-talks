{
 "cells": [
  {
   "cell_type": "markdown",
   "metadata": {},
   "source": [
    "## The mega marks\n",
    "\n",
    "Coming up in the next version of `bqplot`: the **mega marks**:\n",
    "\n",
    " - Display up to millions of points without any decimation.\n",
    " \n",
    "Ingredients:\n",
    "\n",
    " - Binary serialization of widget attributes\n",
    " - WebGL for the rendering"
   ]
  },
  {
   "cell_type": "code",
   "execution_count": null,
   "metadata": {},
   "outputs": [],
   "source": [
    "import bqplot\n",
    "from ipywidgets import Layout\n",
    "import numpy as np"
   ]
  },
  {
   "cell_type": "code",
   "execution_count": null,
   "metadata": {},
   "outputs": [],
   "source": [
    "N = int(1e2)\n",
    "\n",
    "import bqplot\n",
    "scale_x = bqplot.LinearScale(min=-10, max=10)\n",
    "scale_y = bqplot.LinearScale(min=-10, max=10)\n",
    "scale_color = bqplot.ColorScale(min=0, max=1, colors=['red', 'orange', 'green', 'pink', 'blue'])\n",
    "\n",
    "x = np.random.normal(0, 4, N)\n",
    "y = np.random.normal(0, 3, N)\n",
    "size = np.random.rand(N) * 5 + 5\n",
    "\n",
    "scatter = bqplot.ScatterMega(x=x, y=y, default_size=20,\n",
    "                             size=size,\n",
    "                             scales={'x': scale_x, 'y': scale_y, 'color': scale_color})\n",
    "\n",
    "ax_x = bqplot.Axis(scale=scale_x, grid_lines='solid', label='X')\n",
    "ax_y = bqplot.Axis(scale=scale_y, orientation='vertical', tick_format='0.2f',\n",
    "            grid_lines='solid', label='Y')\n",
    "\n",
    "panzoom = bqplot.interacts.PanZoom(scales={'x': [scale_x], 'y': [scale_y]})\n",
    "\n",
    "fig = bqplot.Figure(marks=[scatter], axes=[ax_x, ax_y], title='Using widgets directly',\n",
    "       legend_location='bottom-right', interaction=panzoom, layout=Layout(width='100%'))\n",
    "fig"
   ]
  },
  {
   "cell_type": "code",
   "execution_count": null,
   "metadata": {},
   "outputs": [],
   "source": [
    "M = int(1e3)\n",
    "with scatter.hold_sync():\n",
    "    scatter.x = np.random.normal(0, 2, M)\n",
    "    scatter.y = np.random.normal(0, 5, M)\n",
    "    scatter.size = np.random.rand(M) * 4 + 4"
   ]
  },
  {
   "cell_type": "code",
   "execution_count": null,
   "metadata": {},
   "outputs": [],
   "source": [
    "M = int(1e3)\n",
    "with scatter.hold_sync():\n",
    "    scatter.x = np.random.normal(1, 2, M)\n",
    "    scatter.y = np.random.normal(1, 5, M)\n",
    "    scatter.size = np.random.rand(M) * 4 + 4"
   ]
  },
  {
   "cell_type": "code",
   "execution_count": null,
   "metadata": {},
   "outputs": [],
   "source": [
    "M = int(1e4)\n",
    "with scatter.hold_sync():\n",
    "    scatter.x = np.random.normal(0, 2, M)\n",
    "    scatter.y = np.random.normal(0, 5, M)\n",
    "    scatter.size = np.random.rand(M) * 3 + 3"
   ]
  },
  {
   "cell_type": "code",
   "execution_count": null,
   "metadata": {},
   "outputs": [],
   "source": [
    "M = int(1e5)\n",
    "with scatter.hold_sync():\n",
    "    scatter.x = np.random.normal(0, 2, M)\n",
    "    scatter.y = np.random.normal(0, 5, M)\n",
    "    scatter.size = np.random.rand(M) * 2 + 2"
   ]
  },
  {
   "cell_type": "code",
   "execution_count": null,
   "metadata": {},
   "outputs": [],
   "source": [
    "M = int(1e6)\n",
    "with scatter.hold_sync():\n",
    "    scatter.x = np.random.normal(0, 2, M)\n",
    "    scatter.y = np.random.normal(0, 5, M)\n",
    "    scatter.size = np.random.rand(M) * 1 + 2"
   ]
  },
  {
   "cell_type": "code",
   "execution_count": null,
   "metadata": {},
   "outputs": [],
   "source": []
  },
  {
   "cell_type": "code",
   "execution_count": null,
   "metadata": {},
   "outputs": [],
   "source": []
  }
 ],
 "metadata": {
  "kernelspec": {
   "display_name": "Python 3",
   "language": "python",
   "name": "python3"
  },
  "language_info": {
   "codemirror_mode": {
    "name": "ipython",
    "version": 3
   },
   "file_extension": ".py",
   "mimetype": "text/x-python",
   "name": "python",
   "nbconvert_exporter": "python",
   "pygments_lexer": "ipython3",
   "version": "3.6.5"
  }
 },
 "nbformat": 4,
 "nbformat_minor": 2
}
