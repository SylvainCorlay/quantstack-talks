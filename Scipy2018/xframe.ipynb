{
 "cells": [
  {
   "cell_type": "markdown",
   "metadata": {},
   "source": [
    "![xframe](images/xframe.png)"
   ]
  },
  {
   "cell_type": "markdown",
   "metadata": {},
   "source": [
    "<center> <h1>xframe is a dataframe for C++, based on xtensor and xtl</h1> </center>"
   ]
  },
  {
   "cell_type": "code",
   "execution_count": null,
   "metadata": {},
   "outputs": [],
   "source": [
    "#include <string>\n",
    "#include <iostream>\n",
    "\n",
    "#include \"xtl/xbasic_fixed_string.hpp\"\n",
    "\n",
    "#include \"xtensor/xio.hpp\"\n",
    "\n",
    "#include \"xframe/xvariable.hpp\"\n",
    "#include \"xframe/xvariable_view.hpp\""
   ]
  },
  {
   "cell_type": "code",
   "execution_count": null,
   "metadata": {},
   "outputs": [],
   "source": [
    "using fstring = xtl::xfixed_string<55>;\n",
    "\n",
    "using data_type = xt::xoptional_assembly<xt::xarray<double>, xt::xarray<bool>>;\n",
    "using coordinate_type = xf::xcoordinate<fstring, data_type::size_type>;\n",
    "\n",
    "using variable_type = xf::xvariable<coordinate_type, data_type>;"
   ]
  },
  {
   "cell_type": "markdown",
   "metadata": {},
   "source": [
    "## Axis"
   ]
  },
  {
   "cell_type": "code",
   "execution_count": null,
   "metadata": {},
   "outputs": [],
   "source": [
    "// Creation of an axis with `int` labels, given the size\n",
    "std::cout << xf::axis(15);"
   ]
  },
  {
   "cell_type": "code",
   "execution_count": null,
   "metadata": {},
   "outputs": [],
   "source": [
    "// `int` labels, given the start and stop\n",
    "std::cout << xf::axis(5, 15);"
   ]
  },
  {
   "cell_type": "code",
   "execution_count": null,
   "metadata": {},
   "outputs": [],
   "source": [
    "// `double` labels, given the start, stop and step\n",
    "std::cout << xf::axis(0., 1., 0.1);"
   ]
  },
  {
   "cell_type": "code",
   "execution_count": null,
   "metadata": {},
   "outputs": [],
   "source": [
    "// `char` labels, given the start and stop\n",
    "std::cout << xf::axis('d', 'r', char(2));"
   ]
  },
  {
   "cell_type": "markdown",
   "metadata": {},
   "source": [
    "## Variable with 2D Data "
   ]
  },
  {
   "cell_type": "code",
   "execution_count": null,
   "metadata": {},
   "outputs": [],
   "source": [
    "data_type data1 = {{ 1., 2., 3.},\n",
    "                  { 4., 5., 6.},\n",
    "                  { 7., 8., 9.}};\n",
    "data1(0, 2).has_value() = false;\n",
    "data1(1, 0).has_value() = false;"
   ]
  },
  {
   "cell_type": "code",
   "execution_count": null,
   "metadata": {},
   "outputs": [],
   "source": [
    "auto var1 = variable_type(\n",
    "    data1,\n",
    "    {\n",
    "        {\"abscissa\", xf::axis({'a', 'c', 'd'})},\n",
    "        {\"ordinate\", xf::axis({1, 2, 4})}\n",
    "    }\n",
    ");"
   ]
  },
  {
   "cell_type": "code",
   "execution_count": null,
   "metadata": {},
   "outputs": [],
   "source": [
    "std::cout << var1.select({{\"abscissa\", 'a'}, {\"ordinate\", 1}});"
   ]
  },
  {
   "cell_type": "code",
   "execution_count": null,
   "metadata": {},
   "outputs": [],
   "source": [
    "std::cout << var1.locate('c', 2);"
   ]
  },
  {
   "cell_type": "code",
   "execution_count": null,
   "metadata": {
    "scrolled": true
   },
   "outputs": [],
   "source": [
    "std::cout << var1;"
   ]
  },
  {
   "cell_type": "code",
   "execution_count": null,
   "metadata": {},
   "outputs": [],
   "source": [
    "auto var2 = variable_type(\n",
    "    data1, \n",
    "    {\n",
    "        {\"abscissa\", xf::axis({'a', 'c', 'e'})},\n",
    "        {\"ordinate\", xf::axis({1, 3, 4})}\n",
    "    }\n",
    ");"
   ]
  },
  {
   "cell_type": "code",
   "execution_count": null,
   "metadata": {},
   "outputs": [],
   "source": [
    "variable_type res1 = var1 + var2;"
   ]
  },
  {
   "cell_type": "code",
   "execution_count": null,
   "metadata": {},
   "outputs": [],
   "source": [
    "std::cout << res1;"
   ]
  },
  {
   "cell_type": "markdown",
   "metadata": {},
   "source": [
    "## Variable with 3D data"
   ]
  },
  {
   "cell_type": "code",
   "execution_count": null,
   "metadata": {},
   "outputs": [],
   "source": [
    "data_type data2 = {{{ 1.,  2., 3. },\n",
    "                    { 4.,  5., 6. },\n",
    "                    { 7.,  8., 9. }},\n",
    "                   {{ 1.3, 1.5, 1.},\n",
    "                    { 2., 2.3, 2.4},\n",
    "                    { 3.1, 3.8, 3.}},\n",
    "                   {{ 8.5, 8.2, 8.6},\n",
    "                    { 7.5, 8.6, 9.7},\n",
    "                    { 4.5, 4.4, 4.3}}};"
   ]
  },
  {
   "cell_type": "code",
   "execution_count": null,
   "metadata": {},
   "outputs": [],
   "source": [
    "auto var3 = variable_type(\n",
    "    data2,\n",
    "    {\n",
    "        {\"abscissa\", xf::axis({'a', 'c', 'd'})},\n",
    "        {\"ordinate\", xf::axis({1, 2, 4})},\n",
    "        {\"altitude\", xf::axis(3)},\n",
    "    }\n",
    ");"
   ]
  },
  {
   "cell_type": "code",
   "execution_count": null,
   "metadata": {},
   "outputs": [],
   "source": [
    "std::cout << var3;"
   ]
  },
  {
   "cell_type": "code",
   "execution_count": null,
   "metadata": {},
   "outputs": [],
   "source": [
    "variable_type res2 = var1 * var3;"
   ]
  },
  {
   "cell_type": "code",
   "execution_count": null,
   "metadata": {},
   "outputs": [],
   "source": [
    "std::cout << res2;"
   ]
  }
 ],
 "metadata": {
  "kernelspec": {
   "display_name": "C++14",
   "language": "C++14",
   "name": "xeus-cling-cpp14"
  },
  "language_info": {
   "codemirror_mode": "text/x-c++src",
   "file_extension": ".cpp",
   "mimetype": "text/x-c++src",
   "name": "c++",
   "version": "14"
  }
 },
 "nbformat": 4,
 "nbformat_minor": 2
}
