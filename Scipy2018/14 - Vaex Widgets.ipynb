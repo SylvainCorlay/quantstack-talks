{
 "cells": [
  {
   "cell_type": "markdown",
   "metadata": {},
   "source": [
    "# What if millions of points are not enough?\n",
    "\n",
    "## Vaex: Visualization and eXploration\n",
    "\n",
    "https://github.com/maartenbreddels/vaex\n",
    "\n",
    "A data decimation engine for Jupyter interactive widgets, by **Maarten Breddels**\n",
    "\n",
    "\n",
    " - Vaex is a an Out-of-Core DataFrames (similar to Pandas) to visualize and explore big tabular datasets.\n",
    " \n",
    " - It can calculate statistics such as `mean`, `sum`, `count`, standard deviation etc, on an N-dimensional grid up to **a billion (109) objects/rows per second**.\n",
    " - Visualization is done using histograms, density plots and 3-D volume rendering, allowing interactive exploration of big data.\n",
    " \n",
    "Vaex uses **memory mapping**, **zero memory copy policy** and **lazy computations** for best performance (no memory wasted)."
   ]
  },
  {
   "cell_type": "markdown",
   "metadata": {},
   "source": [
    "## Example 1: The NYC taxi dataset + ipyleaflet\n",
    "\n",
    "25 Gb in a single hdf5 file lying on my my local hard drive."
   ]
  },
  {
   "cell_type": "code",
   "execution_count": 1,
   "metadata": {},
   "outputs": [],
   "source": [
    "import vaex\n",
    "import numpy as np\n",
    "np.warnings.filterwarnings('ignore')\n",
    "dstaxi = vaex.open('nyc_taxi2015.hdf5') # mmapped, doesn't cost extra memory"
   ]
  },
  {
   "cell_type": "code",
   "execution_count": 2,
   "metadata": {},
   "outputs": [
    {
     "data": {
      "application/vnd.jupyter.widget-view+json": {
       "model_id": "d295441813254ee692e7ef31febebb82",
       "version_major": 2,
       "version_minor": 0
      },
      "text/plain": [
       "VBox(children=(VBox(children=(Dropdown(index=1, options=(('identity', 'identity'), ('log', 'log'), ('log10', '…"
      ]
     },
     "metadata": {},
     "output_type": "display_data"
    }
   ],
   "source": [
    "dstaxi.plot_widget(\"pickup_longitude\", \"pickup_latitude\", f=\"log\", backend=\"ipyleaflet\", shape=600)"
   ]
  },
  {
   "cell_type": "markdown",
   "metadata": {},
   "source": [
    "## Example 2: Gaia dataset + bqplot"
   ]
  },
  {
   "cell_type": "code",
   "execution_count": 4,
   "metadata": {},
   "outputs": [],
   "source": [
    "ds = vaex.open('helmi-dezeeuw-2000-FeH.hdf5')"
   ]
  },
  {
   "cell_type": "code",
   "execution_count": 5,
   "metadata": {},
   "outputs": [
    {
     "data": {
      "application/javascript": [
       "define(\"vaex.ext.bqplot\", [\"@jupyter-widgets/base\", \"bqplot\", \"underscore\"],\n",
       "       function(widgets, bqplot, _) {\n",
       "    \"use strict\";\n",
       "/*\n",
       "widgets.BoxView.prototype.remove_original = widgets.BoxView.prototype.remove\n",
       "widgets.BoxView.prototype.remove = function() {\n",
       "    console.log(\"remove monkey patch\")\n",
       "    if(this.children_views)\n",
       "        this.children_views.remove()\n",
       "    if(!this._is_removed) // protect against inf loop, if we monkey patch twice (during dev that can happen)\n",
       "        this.remove_original()\n",
       "    else\n",
       "        this._is_removed = true\n",
       "}*/\n",
       "\n",
       "    var Image = bqplot.Mark.extend({\n",
       "\n",
       "        render: function() {\n",
       "            var base_render_promise = Image.__super__.render.apply(this);\n",
       "            var el = this.d3el || this.el;\n",
       "            window.last_el = el;\n",
       "            window.last_image = this;\n",
       "            this.im = el.append(\"image\")\n",
       "                .attr(\"class\", \"dot_img\")\n",
       "                .attr(\"xlink:href\", this.model.get('src'))\n",
       "                .attr(\"x\", 0) //this.model.get('x'))\n",
       "                .attr(\"y\", 0) //this.model.get('y'))\n",
       "                .attr(\"width\", 1)//this.model.get('width'))\n",
       "                .attr(\"height\", 1)// this.model.get('height'))\n",
       "                .attr(\"preserveAspectRatio\", this.model.get('preserve_aspect_ratio'));\n",
       "\n",
       "            this.width = this.parent.plotarea_width;\n",
       "            this.height = this.parent.plotarea_height;\n",
       "            this.map_id = widgets.uuid();\n",
       "            this.display_el_classes = [\"event_layer\"];\n",
       "            var that = this;\n",
       "            this.event_metadata = {\n",
       "            \"mouse_over\": {\n",
       "                \"msg_name\": \"hover\",\n",
       "                \"lookup_data\": false,\n",
       "                \"hit_test\": true\n",
       "            },\n",
       "            \"legend_clicked\":  {\n",
       "                \"msg_name\": \"legend_click\",\n",
       "                \"hit_test\": true\n",
       "            },\n",
       "            \"element_clicked\": {\n",
       "                \"msg_name\": \"element_click\",\n",
       "                \"lookup_data\": false,\n",
       "                \"hit_test\": true\n",
       "            },\n",
       "            \"parent_clicked\": {\n",
       "                \"msg_name\": \"background_click\",\n",
       "                \"hit_test\": false\n",
       "            }}\n",
       "            console.log('listen to...')\n",
       "            this.is_removed = false;\n",
       "            this.model.set(\"view_count\", this.model.get(\"view_count\")+1)\n",
       "            this.model.save_changes()\n",
       "            return base_render_promise.then(function() {\n",
       "                console.log(\"promise...\")\n",
       "                that.event_listeners = {};\n",
       "                that.create_listeners();\n",
       "                console.log(\"drawing...\")\n",
       "                that.draw();\n",
       "            });\n",
       "        },\n",
       "        remove: function() {\n",
       "            var result = Image.__super__.remove.apply(this, arguments);\n",
       "            console.log(\"remove\")\n",
       "            if(!this.is_removed) {\n",
       "                console.log(\"removed\")\n",
       "                this.model.set(\"view_count\", this.model.get(\"view_count\")-1)\n",
       "                this.model.save_changes()\n",
       "                this.is_removed = true;\n",
       "            }\n",
       "            return result;\n",
       "        },\n",
       "        set_positional_scales: function() {\n",
       "            var x_scale = this.scales.x,\n",
       "                y_scale = this.scales.y;\n",
       "            this.listenTo(x_scale, \"domain_changed\", function() {\n",
       "                if (!this.model.dirty) {\n",
       "                    var animate = true;\n",
       "                    //this.update_xy_position(animate); }\n",
       "                    this.set_ranges()\n",
       "                 }\n",
       "            });\n",
       "            this.listenTo(y_scale, \"domain_changed\", function() {\n",
       "                if (!this.model.dirty) {\n",
       "                    var animate = true;\n",
       "                    //this.update_xy_position(animate);\n",
       "                    this.set_ranges()\n",
       "                }\n",
       "            });\n",
       "        },\n",
       "        set_ranges: function() {\n",
       "                console.log(\"set ranges\")\n",
       "\t            var x_scale = this.scales.x,\n",
       "\t                y_scale = this.scales.y\n",
       "\t                ;\n",
       "\t            if(x_scale) {\n",
       "\t                x_scale.set_range(this.parent.padded_range(\"x\", x_scale.model));\n",
       "\t            }\n",
       "\t            if(y_scale) {\n",
       "\t                y_scale.set_range(this.parent.padded_range(\"y\", y_scale.model));\n",
       "\t            }\n",
       "\t            var x_scale = this.scales.x, y_scale = this.scales.y;\n",
       "\t            var that = this;\n",
       "\t            var animation_duration = this.parent.model.get(\"animation_duration\");// : 0;\n",
       "                var el = this.d3el || this.el;\n",
       "\t            el.selectAll(\".dot_img\").transition()\n",
       "\t                .duration(animation_duration)\n",
       "\t                .attr(\"transform\", function(d) {\n",
       "                        var sx = x_scale.scale(1) - x_scale.scale(0);\n",
       "                        var sy = y_scale.scale(1) - y_scale.scale(0);\n",
       "                        var tx = x_scale.scale(that.model.get('x')) + x_scale.offset\n",
       "                        var ty = y_scale.scale(that.model.get('y')) + y_scale.offset\n",
       "                        sx *= that.model.get('width')\n",
       "                        sy *= that.model.get('height')\n",
       "                        //console.log(that.model)\n",
       "                        //console.log(that.model.get('width'))\n",
       "                        //console.log(sx)\n",
       "                        //console.log(sy)\n",
       "\t                    return \"translate(\" + tx +\n",
       "\t                                    \",\" + ty + \") scale(\" + sx + \", \" + sy + \")\"});\n",
       "\t            //this.x_pixels = this.model.mark_data.map(function(el) { return x_scale.scale(el.x) + x_scale.offset; });\n",
       "\t            //this.y_pixels = this.model.mark_data.map(function(el) { return y_scale.scale(el.y) + y_scale.offset; });\n",
       "        },\n",
       "\n",
       "        create_listeners: function() {\n",
       "            Image.__super__.create_listeners.apply(this);\n",
       "\n",
       "            this.listenTo(this.model, \"change:src\", this.update_src, this);\n",
       "            this.listenTo(this.model, \"change:x\", this.update_x, this);\n",
       "            this.listenTo(this.model, \"change:y\", this.update_y, this);\n",
       "            this.listenTo(this.model, \"change:width\", this.update_width, this);\n",
       "            this.listenTo(this.model, \"change:height\", this.update_height, this);\n",
       "            this.listenTo(this.model, \"change:preserve_aspect_ratio\", this.update_preserve_aspect_ratio, this);\n",
       "            this.listenTo(this.parent, \"bg_clicked\", function() {\n",
       "                        this.event_dispatcher(\"parent_clicked\");\n",
       "                    });\n",
       "        },\n",
       "\n",
       "        update_xy_position: function(animate) {\n",
       "            //console.log(\"update_xy_position\");\n",
       "        },\n",
       "\n",
       "        update_src: function(model, new_x) {\n",
       "          //this.im.attr('x', new_x);\n",
       "          //console.log(\"update src\")\n",
       "            this.im.attr(\"xlink:href\", this.model.get('src'))\n",
       "            //this.set_ranges();\n",
       "        },\n",
       "        update_x: function(model, new_x) {\n",
       "          //this.im.attr('x', new_x);\n",
       "            this.set_ranges();\n",
       "        },\n",
       "\n",
       "        update_y: function(model, new_y) {\n",
       "          //this.im.attr('y', new_y);\n",
       "            this.set_ranges();\n",
       "        },\n",
       "\n",
       "        update_width: function(model, new_width) {\n",
       "          //this.im.attr('width', new_width);\n",
       "            this.set_ranges();\n",
       "        },\n",
       "\n",
       "        update_height: function(model, new_height) {\n",
       "          //this.im.attr('height', new_height);\n",
       "            this.set_ranges();\n",
       "        },\n",
       "\n",
       "        update_preserve_aspect_ratio: function(model, new_preserve_aspect_ratio) {\n",
       "          this.im.attr('preserveAspectRatio', new_preserve_aspect_ratio);\n",
       "        },\n",
       "\n",
       "        draw: function() {\n",
       "            console.log(\"in draw\")\n",
       "            this.set_ranges();\n",
       "            this.im.on(\"click\", _.bind(function(d, i) {\n",
       "            this.event_dispatcher(\"element_clicked\",\n",
       "\t\t\t      {\"data\": d, \"index\": 0});\n",
       "            }, this));\n",
       "\n",
       "        },\n",
       "\n",
       "    });\n",
       "\n",
       "\n",
       "   var ImageModel = bqplot.MarkModel.extend({\n",
       "        defaults: function() {\n",
       "            var more_defaults =  {\n",
       "                    _model_name: \"ImageModel\",\n",
       "                    _view_name: \"Image\",\n",
       "                    _view_module: \"vaex.ext.bqplot\",\n",
       "                    _model_module: \"vaex.ext.bqplot\",\n",
       "                    x: 0,\n",
       "                    y: 0,\n",
       "                    width: 1,\n",
       "                    height: 1,\n",
       "                    view_count: 0,\n",
       "                }\n",
       "            return _.extend(bqplot.MarkModel.prototype.defaults(), more_defaults);\n",
       "        },\n",
       "        initialize: function() {\n",
       "            ImageModel.__super__.initialize.apply(this, arguments);\n",
       "        },\n",
       "\n",
       "    });\n",
       "\n",
       "\n",
       "\n",
       "    console.log(\"blaat\")\n",
       "\t    return {\n",
       "\t        ImageModel: ImageModel,\n",
       "\t        Image:Image,\n",
       "\t    };\n",
       "})\n",
       "//require([\"vaex.ext.bqplot\"])"
      ]
     },
     "metadata": {},
     "output_type": "display_data"
    },
    {
     "data": {
      "application/vnd.jupyter.widget-view+json": {
       "model_id": "5e1ea5c189834b699afc3225516e1bb2",
       "version_major": 2,
       "version_minor": 0
      },
      "text/plain": [
       "VBox(children=(VBox(children=(Dropdown(index=1, options=(('identity', 'identity'), ('log', 'log'), ('log10', '…"
      ]
     },
     "metadata": {},
     "output_type": "display_data"
    }
   ],
   "source": [
    "ds.plot_widget(\"x\", \"y\", f=\"log\", limits=[-20, 20])"
   ]
  },
  {
   "cell_type": "code",
   "execution_count": 6,
   "metadata": {},
   "outputs": [
    {
     "data": {
      "application/vnd.jupyter.widget-view+json": {
       "model_id": "5552cba1fdc2439283ba9d6e7194b206",
       "version_major": 2,
       "version_minor": 0
      },
      "text/plain": [
       "VBox(children=(VBox(children=(Dropdown(index=1, options=(('identity', 'identity'), ('log', 'log'), ('log10', '…"
      ]
     },
     "metadata": {},
     "output_type": "display_data"
    }
   ],
   "source": [
    "ds.plot_widget(\"Lz\", \"E\", f=\"log\")"
   ]
  },
  {
   "cell_type": "code",
   "execution_count": null,
   "metadata": {},
   "outputs": [],
   "source": []
  }
 ],
 "metadata": {
  "anaconda-cloud": {},
  "kernelspec": {
   "display_name": "Python 3",
   "language": "python",
   "name": "python3"
  },
  "language_info": {
   "codemirror_mode": {
    "name": "ipython",
    "version": 3
   },
   "file_extension": ".py",
   "mimetype": "text/x-python",
   "name": "python",
   "nbconvert_exporter": "python",
   "pygments_lexer": "ipython3",
   "version": "3.6.5"
  }
 },
 "nbformat": 4,
 "nbformat_minor": 2
}
