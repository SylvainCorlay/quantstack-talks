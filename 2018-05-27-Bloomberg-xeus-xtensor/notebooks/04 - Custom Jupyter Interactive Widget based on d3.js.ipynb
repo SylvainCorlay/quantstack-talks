{
 "cells": [
  {
   "cell_type": "code",
   "execution_count": 1,
   "metadata": {},
   "outputs": [],
   "source": [
    "import ipywidgets as widgets\n",
    "from traitlets import Unicode, List, Int"
   ]
  },
  {
   "cell_type": "markdown",
   "metadata": {},
   "source": [
    "# Example from http://bl.ocks.org/mbostock/4060366"
   ]
  },
  {
   "cell_type": "code",
   "execution_count": 2,
   "metadata": {},
   "outputs": [
    {
     "data": {
      "application/javascript": [
       "\n",
       "var s = document.createElement(\"style\");\n",
       "s.innerHTML = `\n",
       "path {\n",
       "  stroke: #fff;\n",
       "}\n",
       "\n",
       "path:first-child {\n",
       "  fill: yellow !important;\n",
       "}\n",
       "\n",
       "circle {\n",
       "  fill: #000;\n",
       "  pointer-events: none;\n",
       "}\n",
       "\n",
       ".q0-9 { fill: rgb(197,27,125); }\n",
       ".q1-9 { fill: rgb(222,119,174); }\n",
       ".q2-9 { fill: rgb(241,182,218); }\n",
       ".q3-9 { fill: rgb(253,224,239); }\n",
       ".q4-9 { fill: rgb(247,247,247); }\n",
       ".q5-9 { fill: rgb(230,245,208); }\n",
       ".q6-9 { fill: rgb(184,225,134); }\n",
       ".q7-9 { fill: rgb(127,188,65); }\n",
       ".q8-9 { fill: rgb(77,146,33); }`;\n",
       "\n",
       "document.getElementsByTagName(\"head\")[0].appendChild(s);"
      ],
      "text/plain": [
       "<IPython.core.display.Javascript object>"
      ]
     },
     "metadata": {},
     "output_type": "display_data"
    }
   ],
   "source": [
    "%%javascript\n",
    "\n",
    "var s = document.createElement(\"style\");\n",
    "s.innerHTML = `\n",
    "path {\n",
    "  stroke: #fff;\n",
    "}\n",
    "\n",
    "path:first-child {\n",
    "  fill: yellow !important;\n",
    "}\n",
    "\n",
    "circle {\n",
    "  fill: #000;\n",
    "  pointer-events: none;\n",
    "}\n",
    "\n",
    ".q0-9 { fill: rgb(197,27,125); }\n",
    ".q1-9 { fill: rgb(222,119,174); }\n",
    ".q2-9 { fill: rgb(241,182,218); }\n",
    ".q3-9 { fill: rgb(253,224,239); }\n",
    ".q4-9 { fill: rgb(247,247,247); }\n",
    ".q5-9 { fill: rgb(230,245,208); }\n",
    ".q6-9 { fill: rgb(184,225,134); }\n",
    ".q7-9 { fill: rgb(127,188,65); }\n",
    ".q8-9 { fill: rgb(77,146,33); }`;\n",
    "\n",
    "document.getElementsByTagName(\"head\")[0].appendChild(s);"
   ]
  },
  {
   "cell_type": "code",
   "execution_count": 3,
   "metadata": {},
   "outputs": [],
   "source": [
    "class MyD3(widgets.DOMWidget):\n",
    "    _view_name = Unicode('HelloView').tag(sync=True)\n",
    "    _view_module = Unicode('myd3').tag(sync=True)\n",
    "    width = Int().tag(sync=True)\n",
    "    height = Int().tag(sync=True)\n",
    "    vertices = List().tag(sync=True)"
   ]
  },
  {
   "cell_type": "code",
   "execution_count": 4,
   "metadata": {},
   "outputs": [
    {
     "data": {
      "application/javascript": [
       "require.undef('myd3');\n",
       "\n",
       "define('myd3', [\"@jupyter-widgets/base\",\n",
       "                \"https://cdnjs.cloudflare.com/ajax/libs/d3/3.5.17/d3.js\"], function(widgets, d3) {\n",
       "    \n",
       "    var HelloView = widgets.DOMWidgetView.extend({\n",
       "        \n",
       "        render: function() { \n",
       "            var that = this;\n",
       "            this.width = this.model.get('width');\n",
       "            this.height = this.model.get('height');\n",
       "            that.vertices = this.model.get('vertices');\n",
       "            \n",
       "            that.voronoi = d3.geom.voronoi()\n",
       "                .clipExtent([[0, 0], [that.width, that.height]]);\n",
       "\n",
       "            this.svg = d3.select(this.el).append(\"svg\")\n",
       "                .attr(\"width\", that.width)\n",
       "                .attr(\"height\", that.height)\n",
       "                .on(\"mousemove\", function() { \n",
       "                    that.vertices[0] = d3.mouse(this);\n",
       "                    that.redraw();\n",
       "                });\n",
       "            \n",
       "            var g1 = this.svg.append(\"g\");\n",
       "            this.path = g1.selectAll(\"path\");\n",
       "            var g2 = this.svg.append(\"g\");\n",
       "            this.circle = g2.selectAll(\"circle\");\n",
       "\n",
       "            this.model.on('change:vertices', this.update_vertices, this);\n",
       "            this.redraw();\n",
       "        },\n",
       "        \n",
       "        update_vertices: function() {\n",
       "            this.redraw();\n",
       "        },\n",
       "        \n",
       "        redraw: function () {\n",
       "          this.vertices = this.model.get('vertices');\n",
       "\n",
       "          this.path = this.path\n",
       "              .data(this.voronoi(this.vertices), this.polygon);\n",
       "          this.path.exit().remove();\n",
       "          this.path.enter().append(\"path\")\n",
       "              .attr(\"class\", function(d, i) { return \"q\" + (i % 9) + \"-9\"; })\n",
       "              .attr(\"d\", this.polygon);\n",
       "          this.path.order();\n",
       "\n",
       "          this.circle = this.circle\n",
       "              .data([]);\n",
       "          this.circle.exit().remove();\n",
       "         \n",
       "          this.circle = this.circle\n",
       "              .data(this.vertices.slice(1));        \n",
       "\n",
       "          this.circle.enter().append(\"circle\")\n",
       "            .attr(\"transform\", function(d) { \n",
       "              return \"translate(\" + d + \")\";\n",
       "            })\n",
       "            .attr(\"r\", 1.5);\n",
       "        },\n",
       "        \n",
       "        polygon: function (d) {\n",
       "          return \"M\" + d.join(\"L\") + \"Z\";\n",
       "        }\n",
       "    });\n",
       "    \n",
       "    return {\n",
       "        HelloView : HelloView\n",
       "    };\n",
       "});"
      ],
      "text/plain": [
       "<IPython.core.display.Javascript object>"
      ]
     },
     "metadata": {},
     "output_type": "display_data"
    }
   ],
   "source": [
    "%%javascript\n",
    "require.undef('myd3');\n",
    "\n",
    "define('myd3', [\"@jupyter-widgets/base\",\n",
    "                \"https://cdnjs.cloudflare.com/ajax/libs/d3/3.5.17/d3.js\"], function(widgets, d3) {\n",
    "    \n",
    "    var HelloView = widgets.DOMWidgetView.extend({\n",
    "        \n",
    "        render: function() { \n",
    "            var that = this;\n",
    "            this.width = this.model.get('width');\n",
    "            this.height = this.model.get('height');\n",
    "            that.vertices = this.model.get('vertices');\n",
    "            \n",
    "            that.voronoi = d3.geom.voronoi()\n",
    "                .clipExtent([[0, 0], [that.width, that.height]]);\n",
    "\n",
    "            this.svg = d3.select(this.el).append(\"svg\")\n",
    "                .attr(\"width\", that.width)\n",
    "                .attr(\"height\", that.height)\n",
    "                .on(\"mousemove\", function() { \n",
    "                    that.vertices[0] = d3.mouse(this);\n",
    "                    that.redraw();\n",
    "                });\n",
    "            \n",
    "            var g1 = this.svg.append(\"g\");\n",
    "            this.path = g1.selectAll(\"path\");\n",
    "            var g2 = this.svg.append(\"g\");\n",
    "            this.circle = g2.selectAll(\"circle\");\n",
    "\n",
    "            this.model.on('change:vertices', this.update_vertices, this);\n",
    "            this.redraw();\n",
    "        },\n",
    "        \n",
    "        update_vertices: function() {\n",
    "            this.redraw();\n",
    "        },\n",
    "        \n",
    "        redraw: function () {\n",
    "          this.vertices = this.model.get('vertices');\n",
    "\n",
    "          this.path = this.path\n",
    "              .data(this.voronoi(this.vertices), this.polygon);\n",
    "          this.path.exit().remove();\n",
    "          this.path.enter().append(\"path\")\n",
    "              .attr(\"class\", function(d, i) { return \"q\" + (i % 9) + \"-9\"; })\n",
    "              .attr(\"d\", this.polygon);\n",
    "          this.path.order();\n",
    "\n",
    "          this.circle = this.circle\n",
    "              .data([]);\n",
    "          this.circle.exit().remove();\n",
    "         \n",
    "          this.circle = this.circle\n",
    "              .data(this.vertices.slice(1));        \n",
    "\n",
    "          this.circle.enter().append(\"circle\")\n",
    "            .attr(\"transform\", function(d) { \n",
    "              return \"translate(\" + d + \")\";\n",
    "            })\n",
    "            .attr(\"r\", 1.5);\n",
    "        },\n",
    "        \n",
    "        polygon: function (d) {\n",
    "          return \"M\" + d.join(\"L\") + \"Z\";\n",
    "        }\n",
    "    });\n",
    "    \n",
    "    return {\n",
    "        HelloView : HelloView\n",
    "    };\n",
    "});"
   ]
  },
  {
   "cell_type": "code",
   "execution_count": 5,
   "metadata": {},
   "outputs": [
    {
     "data": {
      "application/vnd.jupyter.widget-view+json": {
       "model_id": "2d001d6951e0421d82488262bd46d634",
       "version_major": 2,
       "version_minor": 0
      },
      "text/html": [
       "<p>Failed to display Jupyter Widget of type <code>MyD3</code>.</p>\n",
       "<p>\n",
       "  If you're reading this message in the Jupyter Notebook or JupyterLab Notebook, it may mean\n",
       "  that the widgets JavaScript is still loading. If this message persists, it\n",
       "  likely means that the widgets JavaScript library is either not installed or\n",
       "  not enabled. See the <a href=\"https://ipywidgets.readthedocs.io/en/stable/user_install.html\">Jupyter\n",
       "  Widgets Documentation</a> for setup instructions.\n",
       "</p>\n",
       "<p>\n",
       "  If you're reading this message in another frontend (for example, a static\n",
       "  rendering on GitHub or <a href=\"https://nbviewer.jupyter.org/\">NBViewer</a>),\n",
       "  it may mean that your frontend doesn't currently support widgets.\n",
       "</p>\n"
      ],
      "text/plain": [
       "MyD3(height=300, vertices=[[436.66481902892025, 232.73568828076966], [281.1437733378773, 15.169571846629303], [248.43127182994368, 125.69490579116668], [90.5684881317175, 297.7750747283648], [291.54001858624986, 263.4479546061539], [724.0101596816423, 26.991763892330024], [691.1015062507645, 247.5076404593602], [530.5028659870084, 148.23851250642798], [711.3263819463131, 122.03165137720433], [335.7314127081519, 2.9808199478860598], [210.96233023131106, 37.282404552076976], [82.91186742305112, 64.41723968872425], [581.9554029174836, 28.752062255843157], [391.787731456084, 274.9573827250624], [108.63964707939189, 94.8023721404576], [13.695733626110068, 171.8434208833451], [617.1225044539597, 218.15939081511794], [156.23996364726673, 194.87659022166213], [157.67011838008142, 116.09813535524927], [312.74709337998866, 37.52219738123477], [309.3334471079039, 72.21975552814645], [23.52926745163389, 227.41673867831685], [489.4332606097925, 75.88915258786943], [471.926574076422, 178.85467018123182], [254.07597245362862, 255.05467771760033], [452.3111572984585, 60.172105992838055], [678.852449285965, 173.61432832168632], [612.3051362389829, 199.44532477243092], [643.929745133588, 54.84179186775406], [216.84736417107706, 197.99512213549178], [575.6658484135658, 185.74233521439953], [653.0915838478062, 68.18687387216666], [660.0126266107906, 178.58423021377905], [315.42396566620306, 135.7270810503381], [234.91499448170205, 76.92660697126624], [386.76916192660417, 22.169735142051284], [175.0520402802929, 128.2883783917674], [493.07894194158007, 141.70691303662548], [345.26397645260386, 241.61895179670617], [749.8763546255763, 139.6508686115585], [42.05166697926674, 20.05943883428536], [67.83149508098182, 11.637100674990409], [364.57500135998055, 227.16465870841424], [208.56664138751003, 253.73393666061926], [44.19310970686216, 13.224440453091669], [15.030375828241821, 26.656472396566667], [387.5990347811781, 63.90369468298774], [123.44005894091973, 236.90692496326747], [383.5687452099362, 266.05005470868804], [36.12855288156155, 84.3843861047013], [715.1979376990578, 27.716605832493325], [522.9240076241708, 120.69574971829398], [256.7350086200614, 284.8158230028861], [485.65233279583754, 57.971119569024665], [79.49533887880098, 117.38595888325565], [544.1645382376746, 158.6591923021127], [451.83555983178104, 94.19691453993804], [38.90640032940201, 58.16529110092479], [419.9090654689241, 201.531914531763], [601.0578529612285, 267.83216544951773], [399.5524645122232, 61.68785020749669], [571.2533711395328, 294.38198772401785], [530.7200834442822, 29.78464397728238], [550.0005420283918, 82.44521080151756], [608.9661966453788, 259.30168789360044], [133.5456280181259, 262.49944272515955], [743.0270963508012, 38.54475709947586], [133.9338316717784, 214.05397343204706], [529.6678860460211, 54.413808745800786], [380.1467261912094, 250.10258538064474], [98.21372574583218, 131.41619404347966], [390.83202918122794, 263.40202443578477], [306.6195515111066, 16.096279910356458], [460.35312671277387, 30.65736746185771], [718.2022962350896, 141.7515149533189], [105.65175737952659, 267.48484618677355], [451.3101348165498, 209.65378511668757], [376.26111797235836, 295.6669007500528], [524.2369914336949, 40.7343418547182], [257.65530812556585, 83.90526003360277], [497.7365504691786, 232.0263551912373], [351.8888186917445, 38.81933826107856], [223.27172325925966, 216.74702130333608], [443.361816643265, 72.70995100958689], [623.5218692386986, 197.04786587424462], [395.0229637348965, 2.911588566346046], [106.19909792170931, 187.9069003660991], [38.87215208933467, 20.564308481043636], [689.3460200071464, 73.17973913721487], [605.659598726143, 80.92808979111831], [404.6225698252867, 290.1085118920065], [9.951491671491148, 163.31872717530058], [227.57647595991463, 46.2871715568118], [71.27904794385267, 63.93626157408991], [290.29877140455363, 122.7294457616297], [734.6197173805289, 232.69321117096254], [344.82730499151575, 55.050559658469766], [464.1496418129936, 272.3506301403814], [336.8903085125084, 233.08094740004265], [697.1371440181457, 202.12293737612856]], width=750)"
      ]
     },
     "metadata": {},
     "output_type": "display_data"
    }
   ],
   "source": [
    "import numpy as np\n",
    "sample_size = 100\n",
    "width = 750\n",
    "height = 300\n",
    "\n",
    "m = MyD3(vertices=(np.random.rand(sample_size, 2) * np.array([width, height])).tolist(),\n",
    "     height=height, width=width)\n",
    "m"
   ]
  },
  {
   "cell_type": "code",
   "execution_count": 6,
   "metadata": {},
   "outputs": [],
   "source": [
    "m.vertices = (np.random.rand(sample_size, 2) * np.array([width, height])).tolist()"
   ]
  },
  {
   "cell_type": "code",
   "execution_count": null,
   "metadata": {},
   "outputs": [],
   "source": []
  }
 ],
 "metadata": {
  "kernelspec": {
   "display_name": "Python 3",
   "language": "python",
   "name": "python3"
  },
  "language_info": {
   "codemirror_mode": {
    "name": "ipython",
    "version": 3
   },
   "file_extension": ".py",
   "mimetype": "text/x-python",
   "name": "python",
   "nbconvert_exporter": "python",
   "pygments_lexer": "ipython3",
   "version": "3.6.4"
  },
  "widgets": {
   "state": {
    "db0f15e2a3eb4e6e8f182bdfc1ab09f1": {
     "views": [
      {
       "cell_index": 5
      }
     ]
    }
   },
   "version": "2.0.0-dev"
  }
 },
 "nbformat": 4,
 "nbformat_minor": 1
}
